{
  "cells": [
    {
      "attachments": {},
      "cell_type": "markdown",
      "metadata": {},
      "source": [
        "## Trabajo práctico 2\n",
        "### Alumnos: Francisco Frusto Alvarado, Ezequiel Kaplan"
      ]
    },
    {
      "cell_type": "code",
      "execution_count": 1,
      "metadata": {
        "id": "Yc_QGcPrvhgj"
      },
      "outputs": [],
      "source": [
        "import numpy as np\n",
        "import pandas as pd\n",
        "import matplotlib.pyplot as plt"
      ]
    },
    {
      "cell_type": "code",
      "execution_count": 2,
      "metadata": {
        "id": "wpp8zX0evhgn"
      },
      "outputs": [
        {
          "name": "stdout",
          "output_type": "stream",
          "text": [
            "[array([[0.91720357, 0.13226415, 0.89939468, 0.72433672, 0.99953038,\n",
            "         0.63860767],\n",
            "        [0.62080537, 0.99762742, 0.31846332, 0.13226918, 0.85954498,\n",
            "         0.04778536],\n",
            "        [0.2095091 , 0.11604298, 0.23397057, 0.85383706, 0.36093569,\n",
            "         0.85258556],\n",
            "        [0.50423293, 0.06159168, 0.88084617, 0.59724967, 0.91246413,\n",
            "         0.46436738],\n",
            "        [0.27846516, 0.29893154, 0.77843189, 0.75641149, 0.79134291,\n",
            "         0.99562625]])\n",
            " array([[0.38970372],\n",
            "        [0.59185722],\n",
            "        [0.01925142],\n",
            "        [0.63295542],\n",
            "        [0.74888875]])\n",
            " array([[0.43655777, 0.68909641, 0.71773409, 0.40365686, 0.04540345]])\n",
            " array([[0.13368576]])]\n"
          ]
        },
        {
          "name": "stderr",
          "output_type": "stream",
          "text": [
            "/var/folders/d8/8cyzttj53pq_1z61ld5c5gpm0000gn/T/ipykernel_87056/1755964871.py:8: VisibleDeprecationWarning: Creating an ndarray from ragged nested sequences (which is a list-or-tuple of lists-or-tuples-or ndarrays with different lengths or shapes) is deprecated. If you meant to do this, you must specify 'dtype=object' when creating the ndarray.\n",
            "  theta = np.array([W1, b1, W2, b2])\n"
          ]
        }
      ],
      "source": [
        "#Inicializacion de pesos\n",
        "W1 = np.array(np.random.random((5,6)))\n",
        "b1 = np.array(np.random.random((5,1)))\n",
        "\n",
        "W2 = np.array(np.random.random((1,5)))\n",
        "b2 = np.array(np.random.random((1,1)))\n",
        "\n",
        "theta = np.array([W1, b1, W2, b2])\n",
        "print(theta)\n"
      ]
    },
    {
      "attachments": {},
      "cell_type": "markdown",
      "metadata": {},
      "source": [
        "Para implementar la funcion forward, vamos a hacer los cálculos de a pasos, sabiendo:\n",
        "\n",
        "$\\newline f_{\\theta}(\\mathrm{\\mathbf{x}}) = W_{2} \\ \\sigma (W_{1} \\mathrm{\\mathbf{x}} + b_{1}) + b{2} $\n",
        "\n",
        "En una primera instancia calculamos $ z_{1} = W_{1} \\mathrm{\\mathbf{x}} + b_{1}$ en la que hacemos el producto punto entre $\\mathrm{\\mathbf{x}}$ y $W_{1}$ y luego le sumamos el vector $b_{1}$. \n",
        "\n",
        "En un segundo paso, habiendo creado la funcion sigmoid que calcula: $\\sigma(x) = \\frac{1}{1 + e^{-x}}$ vamos a aplicarle esta funcion a los elementos de $z_{1}$\n",
        "\n",
        "En un tercer paso, calculamos el resultado final en el que se hace el producto punto entre $W_{2}$ y el resultado anterior y ademas, se le suma el vector $b_{2}$"
      ]
    },
    {
      "cell_type": "code",
      "execution_count": 3,
      "metadata": {},
      "outputs": [],
      "source": [
        "def sigmoid(x):\n",
        "    return 1 / (1 + np.exp(-x))\n",
        "\n",
        "def forward(theta, x):\n",
        "    W1, b1, W2, b2 = theta\n",
        "    x = np.array(x)\n",
        "    x = x[:, np.newaxis]\n",
        "\n",
        "    z1 = np.dot(W1, x) + b1  \n",
        "    a1 = sigmoid(z1)\n",
        "    z2 = np.dot(W2, a1) + b2\n",
        "\n",
        "    return z2"
      ]
    },
    {
      "attachments": {},
      "cell_type": "markdown",
      "metadata": {},
      "source": [
        "La funcion obejtivo que buscamos minimizar, sabemos que está dada por: \n",
        "$\\newline L = \\frac{1}{2}(f_{\\theta_{t}}(\\mathrm{\\mathbf{x}}_{i}) - y_{i})^2$\n",
        "\n",
        "Para calcular el gradiente de forma numércia, vamos a usar la estrategia propuesta por la cátedra para calcular las derivadas parciales. "
      ]
    },
    {
      "cell_type": "code",
      "execution_count": 39,
      "metadata": {
        "id": "P-R0FjEzvhgn"
      },
      "outputs": [],
      "source": [
        "#Calculo del gradiente numerico\n",
        "import copy\n",
        "def funcion_objetivo(theta, x, y):\n",
        "    loss = 0.5 * (forward(theta, x) - y)**2\n",
        "    return loss.item()\n",
        "\n",
        "\n",
        "def numerical_gradient(theta, x, y, epsilon):\n",
        "    gradiente = [np.zeros_like(param) for param in theta]\n",
        "\n",
        "    for i in range(len(theta)):\n",
        "        for j in np.ndindex(theta[i].shape):\n",
        "            # Crear copias independientes de theta_plus y theta_minus\n",
        "\n",
        "            theta_plus = copy.deepcopy(theta)\n",
        "            theta_minus = copy.deepcopy(theta)\n",
        "        \n",
        "            # Aumentar y disminuir un poco el parámetro actual para calcular el gradiente\n",
        "            theta_plus[i][j] += epsilon\n",
        "            theta_minus[i][j] -= epsilon\n",
        "\n",
        "            # Calcular las pérdidas para los parámetros aumentados y disminuidos\n",
        "            loss_plus = funcion_objetivo(theta_plus, x, y)\n",
        "            loss_minus = funcion_objetivo(theta_minus, x, y)\n",
        "\n",
        "            # Calcular el gradiente parcial utilizando las derivadas parciales\n",
        "            gradiente[i][j] = (loss_plus - loss_minus) / (2 * epsilon)\n",
        "\n",
        "    return gradiente\n",
        "\n",
        "\n"
      ]
    },
    {
      "cell_type": "code",
      "execution_count": 40,
      "metadata": {
        "id": "rJRtIYxMvhgo"
      },
      "outputs": [],
      "source": [
        "#funcion fit y loop de entrenamiento\n",
        "def fit(theta, x, y, learning_rate=0.001, epochs=1000):\n",
        "    theta_res = copy.deepcopy(theta)\n",
        "    TOLERANCIA = 0.0001\n",
        "    eps = 0.1\n",
        "    loss_accum = []\n",
        "    last_loss = np.inf\n",
        "    \n",
        "    for epoch in range(epochs):\n",
        "        loss_epoch = 0.0  # Pérdida acumulada en el epoch actual\n",
        "\n",
        "        for i in range(len(x)):\n",
        "            # Obtener el vector x y la salida esperada y correspondientes\n",
        "            x_i = x[i]\n",
        "            y_i = y[i]\n",
        "            # Calcular el gradiente numérico para el ejemplo actual\n",
        "            gradient = numerical_gradient(theta, x_i, y_i, eps)\n",
        "            # Actualizar los parámetros\n",
        "            theta_res -= learning_rate * np.array(gradient)\n",
        "\n",
        "            # Calcular la pérdida para el ejemplo actual\n",
        "            loss_i = funcion_objetivo(theta_res, x_i, y_i)\n",
        "            loss_epoch += loss_i\n",
        "\n",
        "        # Calcular la pérdida promedio para el epoch actual\n",
        "        loss_avg = loss_epoch / len(x)\n",
        "        loss_accum.append(loss_avg)\n",
        "\n",
        "        if abs(last_loss - loss_avg) < TOLERANCIA:\n",
        "            break\n",
        "\n",
        "        last_loss = loss_avg\n",
        "\n",
        "    return loss_accum, theta_res\n",
        "\n",
        "\n"
      ]
    },
    {
      "cell_type": "code",
      "execution_count": 41,
      "metadata": {
        "id": "IS4sKd_Hvhgo"
      },
      "outputs": [],
      "source": [
        "def predict(x, theta):\n",
        "    predictions = [forward(theta, x_i) for x_i in x]\n",
        "    return predictions\n"
      ]
    },
    {
      "cell_type": "code",
      "execution_count": 42,
      "metadata": {},
      "outputs": [
        {
          "name": "stdout",
          "output_type": "stream",
          "text": [
            "[array([[0.91720357, 0.13226415, 0.89939468, 0.72433672, 0.99953038,\n",
            "         0.63860767],\n",
            "        [0.62080537, 0.99762742, 0.31846332, 0.13226918, 0.85954498,\n",
            "         0.04778536],\n",
            "        [0.2095091 , 0.11604298, 0.23397057, 0.85383706, 0.36093569,\n",
            "         0.85258556],\n",
            "        [0.50423293, 0.06159168, 0.88084617, 0.59724967, 0.91246413,\n",
            "         0.46436738],\n",
            "        [0.27846516, 0.29893154, 0.77843189, 0.75641149, 0.79134291,\n",
            "         0.99562625]])\n",
            " array([[0.38970372],\n",
            "        [0.59185722],\n",
            "        [0.01925142],\n",
            "        [0.63295542],\n",
            "        [0.74888875]])\n",
            " array([[0.43655777, 0.68909641, 0.71773409, 0.40365686, 0.04540345]])\n",
            " array([[0.13368576]])]\n",
            "------------------------\n"
          ]
        },
        {
          "name": "stderr",
          "output_type": "stream",
          "text": [
            "/var/folders/d8/8cyzttj53pq_1z61ld5c5gpm0000gn/T/ipykernel_87056/3208634137.py:19: VisibleDeprecationWarning: Creating an ndarray from ragged nested sequences (which is a list-or-tuple of lists-or-tuples-or ndarrays with different lengths or shapes) is deprecated. If you meant to do this, you must specify 'dtype=object' when creating the ndarray.\n",
            "  theta_res -= learning_rate * np.array(gradient)\n"
          ]
        },
        {
          "name": "stdout",
          "output_type": "stream",
          "text": [
            "[array([[0.91720357, 0.13226415, 0.89939468, 0.72433672, 0.99953038,\n",
            "         0.63860767],\n",
            "        [0.62080537, 0.99762742, 0.31846332, 0.13226918, 0.85954498,\n",
            "         0.04778536],\n",
            "        [0.2095091 , 0.11604298, 0.23397057, 0.85383706, 0.36093569,\n",
            "         0.85258556],\n",
            "        [0.50423293, 0.06159168, 0.88084617, 0.59724967, 0.91246413,\n",
            "         0.46436738],\n",
            "        [0.27846516, 0.29893154, 0.77843189, 0.75641149, 0.79134291,\n",
            "         0.99562625]])\n",
            " array([[0.38970372],\n",
            "        [0.59185722],\n",
            "        [0.01925142],\n",
            "        [0.63295542],\n",
            "        [0.74888875]])\n",
            " array([[361.47521438, 361.72775302, 361.7563907 , 361.44231347,\n",
            "         361.08406007]])\n",
            " array([[361.17234238]])]\n",
            "------------------------\n"
          ]
        },
        {
          "data": {
            "image/png": "[encoded data removed]",
            "text/plain": [
              "<Figure size 432x288 with 1 Axes>"
            ]
          },
          "metadata": {
            "needs_background": "light"
          },
          "output_type": "display_data"
        },
        {
          "data": {
            "image/png": "[encoded data removed]",
            "text/plain": [
              "<Figure size 432x288 with 1 Axes>"
            ]
          },
          "metadata": {
            "needs_background": "light"
          },
          "output_type": "display_data"
        },
        {
          "name": "stdout",
          "output_type": "stream",
          "text": [
            "Error cuadrático medio en el conjunto de datos de prueba: 4537560.293820977\n"
          ]
        }
      ],
      "source": [
        "# Entrenar la red neuronal\n",
        "df_test = pd.read_excel(\"datos.xlsx\", nrows=10)\n",
        "x = df_test.iloc[:, 1:7].values.tolist()\n",
        "y = df_test.iloc[:, 7].values.tolist()\n",
        "\n",
        "print(theta)\n",
        "print(\"------------------------\")\n",
        "loss_accum, theta_new = fit(theta, x, y, learning_rate=0.001, epochs=1000)\n",
        "print(theta_new)\n",
        "print(\"------------------------\")\n",
        "\n",
        "# Obtener predicciones en el conjunto de datos de prueba\n",
        "y_pred = predict(x, theta_new)\n",
        "\n",
        "# Calcular el error cuadrático medio en el conjunto de datos de prueba\n",
        "# Calcular el error cuadrático medio en el conjunto de datos de prueba\n",
        "y_pred_array = np.array(y_pred)\n",
        "y_array = np.array(y)\n",
        "mse = ((y_pred_array - y_array) ** 2).mean()\n",
        "\n",
        "\n",
        "# Graficar la función objetivo a lo largo del entrenamiento\n",
        "plt.plot(loss_accum)\n",
        "plt.xlabel('Épocas')\n",
        "plt.ylabel('Función Objetivo')\n",
        "plt.title('Evolución de la función objetivo durante el entrenamiento')\n",
        "plt.show()\n",
        "\n",
        "# Graficar el error cuadrático medio en el conjunto de datos de prueba\n",
        "plt.scatter(y, y_pred_array)\n",
        "plt.xlabel('Valor Real')\n",
        "plt.ylabel('Predicción')\n",
        "plt.title('Predicciones vs. Valores Reales en el conjunto de datos de prueba')\n",
        "plt.show()\n",
        "\n",
        "print(f'Error cuadrático medio en el conjunto de datos de prueba: {mse}')\n"
      ]
    }
  ],
  "metadata": {
    "colab": {
      "provenance": []
    },
    "kernelspec": {
      "display_name": "base",
      "language": "python",
      "name": "python3"
    },
    "language_info": {
      "codemirror_mode": {
        "name": "ipython",
        "version": 3
      },
      "file_extension": ".py",
      "mimetype": "text/x-python",
      "name": "python",
      "nbconvert_exporter": "python",
      "pygments_lexer": "ipython3",
      "version": "3.9.7"
    },
    "orig_nbformat": 4
  },
  "nbformat": 4,
  "nbformat_minor": 0
}
